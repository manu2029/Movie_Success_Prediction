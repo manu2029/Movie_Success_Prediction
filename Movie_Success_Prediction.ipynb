{
  "nbformat": 4,
  "nbformat_minor": 0,
  "metadata": {
    "colab": {
      "provenance": [],
      "authorship_tag": "ABX9TyNVvuCGY6rANHuWUbFPp8gD",
      "include_colab_link": true
    },
    "kernelspec": {
      "name": "python3",
      "display_name": "Python 3"
    },
    "language_info": {
      "name": "python"
    }
  },
  "cells": [
    {
      "cell_type": "markdown",
      "metadata": {
        "id": "view-in-github",
        "colab_type": "text"
      },
      "source": [
        "<a href=\"https://colab.research.google.com/github/manu2029/Movie_Success_Prediction/blob/main/Movie_Success_Prediction.ipynb\" target=\"_parent\"><img src=\"https://colab.research.google.com/assets/colab-badge.svg\" alt=\"Open In Colab\"/></a>"
      ]
    },
    {
      "cell_type": "markdown",
      "source": [
        "**Movie Success Prediction based on metadata**"
      ],
      "metadata": {
        "id": "z9CrBZsEsfYz"
      }
    },
    {
      "cell_type": "code",
      "source": [
        "# New movie features (example)\n",
        "new_movie = pd.DataFrame({\n",
        "    'budget': [20000000],  # New movie budget\n",
        "    'popularity': [35.5],  # New movie popularity score\n",
        "    'vote_average': [7.2], # New movie average vote\n",
        "    'vote_count': [450]    # New movie vote count\n",
        "})\n",
        "\n",
        "# Loop through all models and make predictions\n",
        "for name, model in models.items():\n",
        "    # Make a prediction for the new movie\n",
        "    prediction = model.predict(new_movie)\n",
        "\n",
        "    # Output the prediction for this model\n",
        "    result = \"success\" if prediction[0] == 1 else \"failure\"\n",
        "    print(f\"{name} Model: The movie is predicted to be a {result}.\")\n"
      ],
      "metadata": {
        "colab": {
          "base_uri": "https://localhost:8080/"
        },
        "id": "GgQVmTf42sTD",
        "outputId": "357885b6-3496-4c83-a5da-32961197e383"
      },
      "execution_count": 72,
      "outputs": [
        {
          "output_type": "stream",
          "name": "stdout",
          "text": [
            "Logistic Regression Model: The movie is predicted to be a success.\n",
            "SVM Model: The movie is predicted to be a success.\n",
            "KNN Model: The movie is predicted to be a success.\n",
            "Random Forest Model: The movie is predicted to be a success.\n",
            "Gradient Boosting Model: The movie is predicted to be a success.\n"
          ]
        }
      ]
    },
    {
      "cell_type": "code",
      "source": [
        "# Imports\n",
        "import pandas as pd\n",
        "import numpy as np\n",
        "import matplotlib.pyplot as plt\n",
        "import seaborn as sns\n",
        "from sklearn.model_selection import train_test_split\n",
        "from sklearn.metrics import classification_report\n",
        "from sklearn.ensemble import RandomForestClassifier, GradientBoostingClassifier\n",
        "from sklearn.linear_model import LogisticRegression\n",
        "from sklearn.svm import SVC\n",
        "from sklearn.neighbors import KNeighborsClassifier\n",
        "from textblob import TextBlob\n",
        "\n",
        "# Load datasets (after uploading them)\n",
        "movies = pd.read_csv('/content/tmdb_5000_movies.csv')\n",
        "credits = pd.read_csv('/content/tmdb_5000_credits.csv')\n",
        "\n",
        "# Merge on movie ID\n",
        "df = movies.merge(credits, left_on='id', right_on='movie_id')\n",
        "\n",
        "# Drop rows with missing or zero budget/revenue\n",
        "df = df[df['budget'] > 0]\n",
        "df = df[df['revenue'] > 0]\n",
        "\n",
        "# Define success: if revenue > budget\n",
        "df['success'] = (df['revenue'] > df['budget']).astype(int)"
      ],
      "metadata": {
        "id": "DWtZwDS14UgL"
      },
      "execution_count": 74,
      "outputs": []
    },
    {
      "cell_type": "code",
      "source": [
        "# Extract relevant metadata features\n",
        "\n",
        "# Genre: Convert 'genres' column into a binary indicator for each genre\n",
        "df['genres'] = df['genres'].apply(lambda x: eval(x) if isinstance(x, str) else [])\n",
        "genres_list = ['Action', 'Adventure', 'Comedy', 'Drama', 'Horror', 'Romance', 'Sci-Fi']\n",
        "for genre in genres_list:\n",
        "    df[genre] = df['genres'].apply(lambda x: 1 if genre in [g['name'] for g in x] else 0)\n",
        "\n",
        "# Cast: Check if the movie has a famous actor (based on a predefined list)\n",
        "famous_actors = ['Tom Hanks', 'Leonardo DiCaprio', 'Brad Pitt']  # Example list\n",
        "df['has_famous_actor'] = df['cast'].apply(lambda x: 1 if any(actor in x for actor in famous_actors) else 0)\n",
        "\n",
        "# Release month: Extract month from release date\n",
        "df['release_month'] = pd.to_datetime(df['release_date']).dt.month\n",
        "\n",
        "# Runtime: Can be used directly as a numeric feature\n",
        "df['runtime'] = df['runtime'].fillna(0)\n",
        "\n",
        "# Sentiment analysis on the tagline: Using TextBlob for sentiment analysis\n",
        "df['tagline_sentiment'] = df['tagline'].apply(lambda x: TextBlob(str(x)).sentiment.polarity if x != 'None' else 0)"
      ],
      "metadata": {
        "id": "a4fzin0A4bzD"
      },
      "execution_count": 75,
      "outputs": []
    },
    {
      "cell_type": "code",
      "source": [
        "# Select relevant features (including new metadata)\n",
        "features = df[['budget', 'popularity', 'vote_average', 'vote_count', 'runtime', 'release_month',\n",
        "               'has_famous_actor', 'tagline_sentiment', *genres_list]].copy()"
      ],
      "metadata": {
        "id": "WmTKChUN4gfT"
      },
      "execution_count": 76,
      "outputs": []
    },
    {
      "cell_type": "code",
      "source": [
        "# Check if 'success' column exists in features DataFrame\n",
        "if 'success' not in features.columns:\n",
        "    # If not, add the 'success' column again\n",
        "    features['success'] = (df['revenue'] > df['budget']).astype(int)"
      ],
      "metadata": {
        "id": "Z64ztrwi4_mr"
      },
      "execution_count": 78,
      "outputs": []
    },
    {
      "cell_type": "code",
      "source": [
        "\n",
        "# Split the dataset into features and target\n",
        "X = features.drop('success', axis=1)\n",
        "y = features['success']"
      ],
      "metadata": {
        "id": "pAl61gc-4l1T"
      },
      "execution_count": 79,
      "outputs": []
    },
    {
      "cell_type": "code",
      "source": [
        "# Train-test split (80% train, 20% test)\n",
        "X_train, X_test, y_train, y_test = train_test_split(X, y, test_size=0.2, random_state=42)\n",
        "\n",
        "# Models\n",
        "models = {\n",
        "    'Logistic Regression': LogisticRegression(max_iter=1000),\n",
        "    'SVM': SVC(),\n",
        "    'KNN': KNeighborsClassifier(),\n",
        "    'Random Forest': RandomForestClassifier(),\n",
        "    'Gradient Boosting': GradientBoostingClassifier()\n",
        "}\n",
        "\n",
        "# Training and Evaluation\n",
        "results = {}\n",
        "for name, model in models.items():\n",
        "    model.fit(X_train, y_train)\n",
        "    preds = model.predict(X_test)\n",
        "    acc = model.score(X_test, y_test)\n",
        "    report = classification_report(y_test, preds, output_dict=True)\n",
        "    results[name] = {\n",
        "        'Accuracy': acc,\n",
        "        'Classification Report': report\n",
        "    }\n",
        "\n",
        "# Results Summary\n",
        "summary = {name: r['Accuracy'] for name, r in results.items()}\n",
        "df_summary = pd.DataFrame.from_dict(summary, orient='index', columns=['Accuracy'])\n",
        "df_summary.sort_values('Accuracy', ascending=False).plot(kind='bar', legend=False)\n",
        "plt.title('Model Accuracy Comparison')\n",
        "plt.ylabel('Accuracy')\n",
        "plt.xticks(rotation=45)\n",
        "plt.tight_layout()\n",
        "plt.show()\n"
      ],
      "metadata": {
        "colab": {
          "base_uri": "https://localhost:8080/",
          "height": 611
        },
        "id": "8jOAyEpc5G4z",
        "outputId": "29522d72-b14c-4a77-9145-c149c1a00c8a"
      },
      "execution_count": 80,
      "outputs": [
        {
          "output_type": "stream",
          "name": "stderr",
          "text": [
            "/usr/local/lib/python3.11/dist-packages/sklearn/metrics/_classification.py:1565: UndefinedMetricWarning: Precision is ill-defined and being set to 0.0 in labels with no predicted samples. Use `zero_division` parameter to control this behavior.\n",
            "  _warn_prf(average, modifier, f\"{metric.capitalize()} is\", len(result))\n",
            "/usr/local/lib/python3.11/dist-packages/sklearn/metrics/_classification.py:1565: UndefinedMetricWarning: Precision is ill-defined and being set to 0.0 in labels with no predicted samples. Use `zero_division` parameter to control this behavior.\n",
            "  _warn_prf(average, modifier, f\"{metric.capitalize()} is\", len(result))\n",
            "/usr/local/lib/python3.11/dist-packages/sklearn/metrics/_classification.py:1565: UndefinedMetricWarning: Precision is ill-defined and being set to 0.0 in labels with no predicted samples. Use `zero_division` parameter to control this behavior.\n",
            "  _warn_prf(average, modifier, f\"{metric.capitalize()} is\", len(result))\n"
          ]
        },
        {
          "output_type": "display_data",
          "data": {
            "text/plain": [
              "<Figure size 640x480 with 1 Axes>"
            ],
            "image/png": "[encoded data removed]"
          },
          "metadata": {}
        }
      ]
    },
    {
      "cell_type": "code",
      "source": [
        "# Display accuracy table\n",
        "df_summary.sort_values('Accuracy', ascending=False)\n"
      ],
      "metadata": {
        "colab": {
          "base_uri": "https://localhost:8080/",
          "height": 206
        },
        "id": "i5e5O1DF5OF7",
        "outputId": "9905ee86-36a8-4bff-abf5-94f31d68e23b"
      },
      "execution_count": 81,
      "outputs": [
        {
          "output_type": "execute_result",
          "data": {
            "text/plain": [
              "                     Accuracy\n",
              "Random Forest        0.801858\n",
              "Logistic Regression  0.800310\n",
              "Gradient Boosting    0.789474\n",
              "KNN                  0.763158\n",
              "SVM                  0.756966"
            ],
            "text/html": [
              "\n",
              "  <div id=\"df-90c60ab7-cc02-46f2-b9c8-387067393783\" class=\"colab-df-container\">\n",
              "    <div>\n",
              "<style scoped>\n",
              "    .dataframe tbody tr th:only-of-type {\n",
              "        vertical-align: middle;\n",
              "    }\n",
              "\n",
              "    .dataframe tbody tr th {\n",
              "        vertical-align: top;\n",
              "    }\n",
              "\n",
              "    .dataframe thead th {\n",
              "        text-align: right;\n",
              "    }\n",
              "</style>\n",
              "<table border=\"1\" class=\"dataframe\">\n",
              "  <thead>\n",
              "    <tr style=\"text-align: right;\">\n",
              "      <th></th>\n",
              "      <th>Accuracy</th>\n",
              "    </tr>\n",
              "  </thead>\n",
              "  <tbody>\n",
              "    <tr>\n",
              "      <th>Random Forest</th>\n",
              "      <td>0.801858</td>\n",
              "    </tr>\n",
              "    <tr>\n",
              "      <th>Logistic Regression</th>\n",
              "      <td>0.800310</td>\n",
              "    </tr>\n",
              "    <tr>\n",
              "      <th>Gradient Boosting</th>\n",
              "      <td>0.789474</td>\n",
              "    </tr>\n",
              "    <tr>\n",
              "      <th>KNN</th>\n",
              "      <td>0.763158</td>\n",
              "    </tr>\n",
              "    <tr>\n",
              "      <th>SVM</th>\n",
              "      <td>0.756966</td>\n",
              "    </tr>\n",
              "  </tbody>\n",
              "</table>\n",
              "</div>\n",
              "    <div class=\"colab-df-buttons\">\n",
              "\n",
              "  <div class=\"colab-df-container\">\n",
              "    <button class=\"colab-df-convert\" onclick=\"convertToInteractive('df-90c60ab7-cc02-46f2-b9c8-387067393783')\"\n",
              "            title=\"Convert this dataframe to an interactive table.\"\n",
              "            style=\"display:none;\">\n",
              "\n",
              "  <svg xmlns=\"http://www.w3.org/2000/svg\" height=\"24px\" viewBox=\"0 -960 960 960\">\n",
              "    <path d=\"M120-120v-720h720v720H120Zm60-500h600v-160H180v160Zm220 220h160v-160H400v160Zm0 220h160v-160H400v160ZM180-400h160v-160H180v160Zm440 0h160v-160H620v160ZM180-180h160v-160H180v160Zm440 0h160v-160H620v160Z\"/>\n",
              "  </svg>\n",
              "    </button>\n",
              "\n",
              "  <style>\n",
              "    .colab-df-container {\n",
              "      display:flex;\n",
              "      gap: 12px;\n",
              "    }\n",
              "\n",
              "    .colab-df-convert {\n",
              "      background-color: #E8F0FE;\n",
              "      border: none;\n",
              "      border-radius: 50%;\n",
              "      cursor: pointer;\n",
              "      display: none;\n",
              "      fill: #1967D2;\n",
              "      height: 32px;\n",
              "      padding: 0 0 0 0;\n",
              "      width: 32px;\n",
              "    }\n",
              "\n",
              "    .colab-df-convert:hover {\n",
              "      background-color: #E2EBFA;\n",
              "      box-shadow: 0px 1px 2px rgba(60, 64, 67, 0.3), 0px 1px 3px 1px rgba(60, 64, 67, 0.15);\n",
              "      fill: #174EA6;\n",
              "    }\n",
              "\n",
              "    .colab-df-buttons div {\n",
              "      margin-bottom: 4px;\n",
              "    }\n",
              "\n",
              "    [theme=dark] .colab-df-convert {\n",
              "      background-color: #3B4455;\n",
              "      fill: #D2E3FC;\n",
              "    }\n",
              "\n",
              "    [theme=dark] .colab-df-convert:hover {\n",
              "      background-color: #434B5C;\n",
              "      box-shadow: 0px 1px 3px 1px rgba(0, 0, 0, 0.15);\n",
              "      filter: drop-shadow(0px 1px 2px rgba(0, 0, 0, 0.3));\n",
              "      fill: #FFFFFF;\n",
              "    }\n",
              "  </style>\n",
              "\n",
              "    <script>\n",
              "      const buttonEl =\n",
              "        document.querySelector('#df-90c60ab7-cc02-46f2-b9c8-387067393783 button.colab-df-convert');\n",
              "      buttonEl.style.display =\n",
              "        google.colab.kernel.accessAllowed ? 'block' : 'none';\n",
              "\n",
              "      async function convertToInteractive(key) {\n",
              "        const element = document.querySelector('#df-90c60ab7-cc02-46f2-b9c8-387067393783');\n",
              "        const dataTable =\n",
              "          await google.colab.kernel.invokeFunction('convertToInteractive',\n",
              "                                                    [key], {});\n",
              "        if (!dataTable) return;\n",
              "\n",
              "        const docLinkHtml = 'Like what you see? Visit the ' +\n",
              "          '<a target=\"_blank\" href=https://colab.research.google.com/notebooks/data_table.ipynb>data table notebook</a>'\n",
              "          + ' to learn more about interactive tables.';\n",
              "        element.innerHTML = '';\n",
              "        dataTable['output_type'] = 'display_data';\n",
              "        await google.colab.output.renderOutput(dataTable, element);\n",
              "        const docLink = document.createElement('div');\n",
              "        docLink.innerHTML = docLinkHtml;\n",
              "        element.appendChild(docLink);\n",
              "      }\n",
              "    </script>\n",
              "  </div>\n",
              "\n",
              "\n",
              "<div id=\"df-d01d7b46-0928-4944-b56f-c49dd40f0519\">\n",
              "  <button class=\"colab-df-quickchart\" onclick=\"quickchart('df-d01d7b46-0928-4944-b56f-c49dd40f0519')\"\n",
              "            title=\"Suggest charts\"\n",
              "            style=\"display:none;\">\n",
              "\n",
              "<svg xmlns=\"http://www.w3.org/2000/svg\" height=\"24px\"viewBox=\"0 0 24 24\"\n",
              "     width=\"24px\">\n",
              "    <g>\n",
              "        <path d=\"M19 3H5c-1.1 0-2 .9-2 2v14c0 1.1.9 2 2 2h14c1.1 0 2-.9 2-2V5c0-1.1-.9-2-2-2zM9 17H7v-7h2v7zm4 0h-2V7h2v10zm4 0h-2v-4h2v4z\"/>\n",
              "    </g>\n",
              "</svg>\n",
              "  </button>\n",
              "\n",
              "<style>\n",
              "  .colab-df-quickchart {\n",
              "      --bg-color: #E8F0FE;\n",
              "      --fill-color: #1967D2;\n",
              "      --hover-bg-color: #E2EBFA;\n",
              "      --hover-fill-color: #174EA6;\n",
              "      --disabled-fill-color: #AAA;\n",
              "      --disabled-bg-color: #DDD;\n",
              "  }\n",
              "\n",
              "  [theme=dark] .colab-df-quickchart {\n",
              "      --bg-color: #3B4455;\n",
              "      --fill-color: #D2E3FC;\n",
              "      --hover-bg-color: #434B5C;\n",
              "      --hover-fill-color: #FFFFFF;\n",
              "      --disabled-bg-color: #3B4455;\n",
              "      --disabled-fill-color: #666;\n",
              "  }\n",
              "\n",
              "  .colab-df-quickchart {\n",
              "    background-color: var(--bg-color);\n",
              "    border: none;\n",
              "    border-radius: 50%;\n",
              "    cursor: pointer;\n",
              "    display: none;\n",
              "    fill: var(--fill-color);\n",
              "    height: 32px;\n",
              "    padding: 0;\n",
              "    width: 32px;\n",
              "  }\n",
              "\n",
              "  .colab-df-quickchart:hover {\n",
              "    background-color: var(--hover-bg-color);\n",
              "    box-shadow: 0 1px 2px rgba(60, 64, 67, 0.3), 0 1px 3px 1px rgba(60, 64, 67, 0.15);\n",
              "    fill: var(--button-hover-fill-color);\n",
              "  }\n",
              "\n",
              "  .colab-df-quickchart-complete:disabled,\n",
              "  .colab-df-quickchart-complete:disabled:hover {\n",
              "    background-color: var(--disabled-bg-color);\n",
              "    fill: var(--disabled-fill-color);\n",
              "    box-shadow: none;\n",
              "  }\n",
              "\n",
              "  .colab-df-spinner {\n",
              "    border: 2px solid var(--fill-color);\n",
              "    border-color: transparent;\n",
              "    border-bottom-color: var(--fill-color);\n",
              "    animation:\n",
              "      spin 1s steps(1) infinite;\n",
              "  }\n",
              "\n",
              "  @keyframes spin {\n",
              "    0% {\n",
              "      border-color: transparent;\n",
              "      border-bottom-color: var(--fill-color);\n",
              "      border-left-color: var(--fill-color);\n",
              "    }\n",
              "    20% {\n",
              "      border-color: transparent;\n",
              "      border-left-color: var(--fill-color);\n",
              "      border-top-color: var(--fill-color);\n",
              "    }\n",
              "    30% {\n",
              "      border-color: transparent;\n",
              "      border-left-color: var(--fill-color);\n",
              "      border-top-color: var(--fill-color);\n",
              "      border-right-color: var(--fill-color);\n",
              "    }\n",
              "    40% {\n",
              "      border-color: transparent;\n",
              "      border-right-color: var(--fill-color);\n",
              "      border-top-color: var(--fill-color);\n",
              "    }\n",
              "    60% {\n",
              "      border-color: transparent;\n",
              "      border-right-color: var(--fill-color);\n",
              "    }\n",
              "    80% {\n",
              "      border-color: transparent;\n",
              "      border-right-color: var(--fill-color);\n",
              "      border-bottom-color: var(--fill-color);\n",
              "    }\n",
              "    90% {\n",
              "      border-color: transparent;\n",
              "      border-bottom-color: var(--fill-color);\n",
              "    }\n",
              "  }\n",
              "</style>\n",
              "\n",
              "  <script>\n",
              "    async function quickchart(key) {\n",
              "      const quickchartButtonEl =\n",
              "        document.querySelector('#' + key + ' button');\n",
              "      quickchartButtonEl.disabled = true;  // To prevent multiple clicks.\n",
              "      quickchartButtonEl.classList.add('colab-df-spinner');\n",
              "      try {\n",
              "        const charts = await google.colab.kernel.invokeFunction(\n",
              "            'suggestCharts', [key], {});\n",
              "      } catch (error) {\n",
              "        console.error('Error during call to suggestCharts:', error);\n",
              "      }\n",
              "      quickchartButtonEl.classList.remove('colab-df-spinner');\n",
              "      quickchartButtonEl.classList.add('colab-df-quickchart-complete');\n",
              "    }\n",
              "    (() => {\n",
              "      let quickchartButtonEl =\n",
              "        document.querySelector('#df-d01d7b46-0928-4944-b56f-c49dd40f0519 button');\n",
              "      quickchartButtonEl.style.display =\n",
              "        google.colab.kernel.accessAllowed ? 'block' : 'none';\n",
              "    })();\n",
              "  </script>\n",
              "</div>\n",
              "\n",
              "    </div>\n",
              "  </div>\n"
            ],
            "application/vnd.google.colaboratory.intrinsic+json": {
              "type": "dataframe",
              "summary": "{\n  \"name\": \"df_summary\",\n  \"rows\": 5,\n  \"fields\": [\n    {\n      \"column\": \"Accuracy\",\n      \"properties\": {\n        \"dtype\": \"number\",\n        \"std\": 0.021015036546805223,\n        \"min\": 0.7569659442724458,\n        \"max\": 0.8018575851393189,\n        \"num_unique_values\": 5,\n        \"samples\": [\n          0.8003095975232198,\n          0.7569659442724458,\n          0.7894736842105263\n        ],\n        \"semantic_type\": \"\",\n        \"description\": \"\"\n      }\n    }\n  ]\n}"
            }
          },
          "metadata": {},
          "execution_count": 81
        }
      ]
    },
    {
      "cell_type": "code",
      "source": [
        "# Example of using the best model to make a prediction on new data\n",
        "best_model = models['Random Forest']  # Assume RandomForest gave the best accuracy"
      ],
      "metadata": {
        "id": "ENcb72mZ5aR7"
      },
      "execution_count": 82,
      "outputs": []
    },
    {
      "cell_type": "code",
      "source": [
        "# New movie example (use actual values for prediction)\n",
        "new_movie = pd.DataFrame({\n",
        "    'budget': [100000000],  # Example budget\n",
        "    'popularity': [50.0],  # Example popularity\n",
        "    'vote_average': [7.5],  # Example average vote\n",
        "    'vote_count': [2000],  # Example vote count\n",
        "    'runtime': [120],  # Example runtime\n",
        "    'release_month': [6],  # Example release month (June)\n",
        "    'has_famous_actor': [1],  # Example: Has a famous actor\n",
        "    'tagline_sentiment': [0.2],  # Example sentiment of tagline\n",
        "    'Action': [1],  # Genre 'Action'\n",
        "    'Adventure': [0],  # Genre 'Adventure'\n",
        "    'Comedy': [0],  # Genre 'Comedy'\n",
        "    'Drama': [1],  # Genre 'Drama'\n",
        "    'Horror': [0],  # Genre 'Horror'\n",
        "    'Romance': [0],  # Genre 'Romance'\n",
        "    'Sci-Fi': [0]  # Genre 'Sci-Fi'\n",
        "})\n",
        "\n",
        "# Make prediction\n",
        "prediction = best_model.predict(new_movie)\n",
        "print('Prediction:', 'Success' if prediction[0] == 1 else 'Failure')\n"
      ],
      "metadata": {
        "colab": {
          "base_uri": "https://localhost:8080/"
        },
        "id": "BTLMvb6j5fEr",
        "outputId": "066d1b62-27b6-431a-e4db-b6c6a3e3fe76"
      },
      "execution_count": 83,
      "outputs": [
        {
          "output_type": "stream",
          "name": "stdout",
          "text": [
            "Prediction: Success\n"
          ]
        }
      ]
    },
    {
      "cell_type": "code",
      "source": [
        "# New movie example expected to fail\n",
        "new_movie_f = pd.DataFrame({\n",
        "    'budget': [150000000],       # Very high budget\n",
        "    'popularity': [3.0],         # Very low popularity\n",
        "    'vote_average': [3.5],       # Poor ratings\n",
        "    'vote_count': [50],          # Very few votes\n",
        "    'runtime': [80],             # Short runtime\n",
        "    'release_month': [1],        # January (typically low season)\n",
        "    'has_famous_actor': [0],     # No famous actor\n",
        "    'tagline_sentiment': [-0.4], # Negative sentiment\n",
        "    'Action': [0],\n",
        "    'Adventure': [0],\n",
        "    'Comedy': [0],\n",
        "    'Drama': [0],\n",
        "    'Horror': [1],\n",
        "    'Romance': [1],\n",
        "    'Sci-Fi': [0]\n",
        "})\n",
        "# Make prediction\n",
        "prediction = best_model.predict(new_movie_f)\n",
        "print('Prediction:', 'Success' if prediction[0] == 1 else 'Failure')\n"
      ],
      "metadata": {
        "colab": {
          "base_uri": "https://localhost:8080/"
        },
        "id": "wMwYaUzt5yuM",
        "outputId": "5ffee77b-744c-4abd-cb0f-c2fa54a9d954"
      },
      "execution_count": 84,
      "outputs": [
        {
          "output_type": "stream",
          "name": "stdout",
          "text": [
            "Prediction: Failure\n"
          ]
        }
      ]
    }
  ]
}